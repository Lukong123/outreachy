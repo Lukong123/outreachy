{
 "cells": [
  {
   "cell_type": "markdown",
   "metadata": {},
   "source": [
    "# Distance Measures in Networkx\n",
    "\n",
    "Distance measures are used in physical cosmology to give a natural notion of the distance between two objects or eventsin the universe. They are often used to tie some observable quantity to another quantity that is not directly observable, but is more convenient for calculation.\n",
    "\n",
    "In a graph we look at distance when it comes to connected graph. In case of a disconnected graph (G) and vertex A and B are in different components we say that the distance between A and B is infinity.\n",
    "We will be looking at different aspect of distance when it comes to graph. \n",
    "\n"
   ]
  },
  {
   "cell_type": "code",
   "execution_count": 112,
   "metadata": {},
   "outputs": [],
   "source": [
    "import networkx as nx\n",
    "import matplotlib.pyplot as plt"
   ]
  },
  {
   "cell_type": "markdown",
   "metadata": {},
   "source": [
    "## Eccentricity\n",
    "It is defined as the maximum distance of one vertex from other vertex.The maximum distance between a vertex to all other vertices is considered as the eccentricity of the vertex. It is denoted by e(V). \n",
    "\n",
    "<br><br>\n",
    "The eccentricity is very important factor, from the eccentricity of different vertices we can get the radius, diameter, center and periphery."
   ]
  },
  {
   "cell_type": "code",
   "execution_count": 113,
   "metadata": {},
   "outputs": [
    {
     "data": {
      "image/png": "[encoded data removed]",
      "text/plain": [
       "<Figure size 432x288 with 1 Axes>"
      ]
     },
     "metadata": {},
     "output_type": "display_data"
    }
   ],
   "source": [
    "G = nx.Graph([(1, 2), (2, 3), (3, 4), (2,5), (3,6), (5, 6),(5,7), (6, 8), (6,9), (8,9)])\n",
    "nx.draw(G, with_labels = \"True\")"
   ]
  },
  {
   "cell_type": "code",
   "execution_count": 114,
   "metadata": {},
   "outputs": [
    {
     "data": {
      "text/plain": [
       "{1: 4, 2: 3, 3: 3, 4: 4, 5: 3, 6: 3, 7: 4, 8: 4, 9: 4}"
      ]
     },
     "execution_count": 114,
     "metadata": {},
     "output_type": "execute_result"
    }
   ],
   "source": [
    "G = nx.Graph([(1, 2), (2, 3), (3, 4), (2,5), (3,6), (5, 6),(5,7), (6, 8), (6,9), (8,9)])\n",
    "dict(nx.eccentricity(G))"
   ]
  },
  {
   "cell_type": "markdown",
   "metadata": {},
   "source": [
    "The eccentricity Of G which was returned shows the maximum distance of one node to another.\n",
    "Let's examine the case of node 1.\n",
    "\n",
    "\n",
    "Eccentricity of node 1, it's maximum distance will be leaving from (1-2,3-6,6-9) or (1-2, 5-6, 6-8) which gives a maximum distance of 4.\n",
    "so, <br> <br>\n",
    "e(1) = 4 "
   ]
  },
  {
   "cell_type": "markdown",
   "metadata": {},
   "source": [
    "nx.eccentricity(G) returns all the nodes in our Graph along as it's eccentricity. Nevertheless, we can always precise the nodes with want."
   ]
  },
  {
   "cell_type": "code",
   "execution_count": 115,
   "metadata": {},
   "outputs": [
    {
     "data": {
      "text/plain": [
       "{1: 4, 6: 3}"
      ]
     },
     "execution_count": 115,
     "metadata": {},
     "output_type": "execute_result"
    }
   ],
   "source": [
    "G = nx.Graph([(1, 2), (2, 3), (3, 4), (2,5), (3,6), (5, 6),(5,7), (6, 8), (6,9), (8,9)])\n",
    "dict(nx.eccentricity(G, v=[1, 6])) # This returns the eccentrity of node 1 and 6 only"
   ]
  },
  {
   "cell_type": "markdown",
   "metadata": {},
   "source": [
    "## Diameter\n",
    "The diameter of a graph is the maximum eccentricity of any vertex in the graph. That is, it is the greatest distance between any pair of vertices. To find the diameter of a graph, first find the shortest path between each pair of vertices. The greatest length of any of these paths is the diameter of the graph."
   ]
  },
  {
   "cell_type": "markdown",
   "metadata": {},
   "source": [
    "Diameter is the maximum eccentricity, if we look at the eccentricity of the graph below, the overall maximum eccentricity is 3 and hence the diameter."
   ]
  },
  {
   "cell_type": "code",
   "execution_count": 116,
   "metadata": {},
   "outputs": [
    {
     "data": {
      "text/plain": [
       "{1: 3, 2: 2, 3: 2, 4: 3, 5: 3, 6: 3}"
      ]
     },
     "execution_count": 116,
     "metadata": {},
     "output_type": "execute_result"
    }
   ],
   "source": [
    "G = nx.Graph([(1, 2), (2, 3), (2, 4), (3,5), (3, 6)])\n",
    "nx.eccentricity(G)\n"
   ]
  },
  {
   "cell_type": "code",
   "execution_count": 117,
   "metadata": {},
   "outputs": [
    {
     "data": {
      "image/png": "[encoded data removed]",
      "text/plain": [
       "<Figure size 432x288 with 1 Axes>"
      ]
     },
     "metadata": {},
     "output_type": "display_data"
    }
   ],
   "source": [
    "G = nx.Graph([(1, 2), (2, 3), (2, 4), (3,5), (3, 6)])\n",
    "\n",
    "color_map = []\n",
    "for node in G:\n",
    "    if node == (nx.diameter(G)):\n",
    "        color_map.append('yellow')\n",
    "    else:\n",
    "        color_map.append('purple')\n",
    "nx.draw(G, node_color=color_map, with_labels=\"True\")\n"
   ]
  },
  {
   "cell_type": "markdown",
   "metadata": {},
   "source": [
    "## Periphery\n",
    "The Periphery has nodes, with eccentricity equal to the diameter. It denotes a sparsely connected, usally non-central set of nodes, which are linked to the core.\n",
    "<br> <br> \n",
    "Therfore, \n",
    "<br>\n",
    "e(V) = diameter(G) gives the periphery"
   ]
  },
  {
   "cell_type": "code",
   "execution_count": 118,
   "metadata": {},
   "outputs": [
    {
     "data": {
      "text/plain": [
       "[1, 4, 5, 6]"
      ]
     },
     "execution_count": 118,
     "metadata": {},
     "output_type": "execute_result"
    }
   ],
   "source": [
    "G = nx.Graph([(1, 2), (2, 3), (2, 4), (3,5), (3, 6)])\n",
    "nx.periphery(G)"
   ]
  },
  {
   "cell_type": "markdown",
   "metadata": {},
   "source": [
    "## Radius\n",
    "The radius of a graph is the minumum graph eccentricity of any graph vertex in a graph. This holds for a connected graph. For a disconnected graph there is an infinite radius. The radius is also called the smallest eccentricity in a graph."
   ]
  },
  {
   "cell_type": "code",
   "execution_count": 119,
   "metadata": {},
   "outputs": [
    {
     "data": {
      "text/plain": [
       "2"
      ]
     },
     "execution_count": 119,
     "metadata": {},
     "output_type": "execute_result"
    }
   ],
   "source": [
    "G = nx.Graph([(1, 2), (2, 3), (2, 4), (3,5), (3, 6)])\n",
    "nx.radius(G)"
   ]
  },
  {
   "cell_type": "code",
   "execution_count": 120,
   "metadata": {},
   "outputs": [
    {
     "data": {
      "image/png": "[encoded data removed]",
      "text/plain": [
       "<Figure size 432x288 with 1 Axes>"
      ]
     },
     "metadata": {},
     "output_type": "display_data"
    }
   ],
   "source": [
    "G = nx.Graph([(1, 2), (2, 3), (2, 4), (3,5), (3, 6)])\n",
    "color_map = []\n",
    "for node in G:\n",
    "    if node == (nx.radius(G)):\n",
    "        color_map.append('yellow')\n",
    "    else:\n",
    "        color_map.append('purple')\n",
    "nx.draw(G, node_color=color_map, with_labels=\"True\")\n"
   ]
  },
  {
   "cell_type": "markdown",
   "metadata": {},
   "source": [
    "## Center\n",
    "The center of a graph is the set of all vertices of minimum eccentricity,that is, the set of all vertices u where the greatest distance d(u,v) to other vertices v is minimal. Equivalently, it is the set of vertices with eccentricity equal to the graph's radius."
   ]
  },
  {
   "cell_type": "markdown",
   "metadata": {},
   "source": [
    "e(v) = radius(G) then v is the central node and the set of all such nodes makes the center of G"
   ]
  },
  {
   "cell_type": "code",
   "execution_count": 121,
   "metadata": {},
   "outputs": [
    {
     "data": {
      "text/plain": [
       "[2, 5, 6]"
      ]
     },
     "execution_count": 121,
     "metadata": {},
     "output_type": "execute_result"
    }
   ],
   "source": [
    "import networkx as nx\n",
    "G = nx.Graph([(1, 2), (2, 3), (3, 4), (2,5), (3,6), (5, 6),(5,7), (7, 8), (6, 9)])\n",
    "list(nx.center(G))"
   ]
  },
  {
   "cell_type": "code",
   "execution_count": 122,
   "metadata": {},
   "outputs": [
    {
     "data": {
      "text/plain": [
       "[2, 3]"
      ]
     },
     "execution_count": 122,
     "metadata": {},
     "output_type": "execute_result"
    }
   ],
   "source": [
    "G = nx.Graph([(1, 2), (2, 3), (2, 4), (3,5), (3, 6)])\n",
    "nx.center(G)"
   ]
  },
  {
   "cell_type": "markdown",
   "metadata": {},
   "source": [
    "## Barycenter\n",
    " The barycenter is the center of mass of two or more bodies that orbit one another and is the point about which the bodies orbit. Did you know the barycenter is sometimes called the median."
   ]
  },
  {
   "cell_type": "code",
   "execution_count": 123,
   "metadata": {},
   "outputs": [
    {
     "data": {
      "text/plain": [
       "[2]"
      ]
     },
     "execution_count": 123,
     "metadata": {},
     "output_type": "execute_result"
    }
   ],
   "source": [
    "G = nx.Graph([(0, 1), (1, 2), (1, 5), (5, 4), (2, 4), (2, 3), (4, 3), (3, 6)])\n",
    "nx.barycenter(G)"
   ]
  },
  {
   "cell_type": "markdown",
   "metadata": {},
   "source": [
    "## Resistance Distance\n",
    "In graph theory, the resistance distance between two vertices of a simple connected graph, G, is equal to the resistance between two equivalent points on an electrical network, constructed so as to correspond to G, with each edge being replaced by a 1 ohm resistance. It is a metric on graphs.\n",
    "\n",
    "On a graph G, the resistance distance Ωi,j between two vertices vi and vj is[1]\n",
    "\n",
    "{\\displaystyle \\Omega _{i,j}:=\\Gamma _{i,i}+\\Gamma _{j,j}-\\Gamma _{i,j}-\\Gamma _{j,i}}{\\displaystyle \\Omega _{i,j}:=\\Gamma _{i,i}+\\Gamma _{j,j}-\\Gamma _{i,j}-\\Gamma _{j,i}}\n",
    "where {\\displaystyle \\Gamma =\\left(L+{\\frac {1}{|V|}}\\Phi \\right)^{+}}{\\displaystyle \\Gamma =\\left(L+{\\frac {1}{|V|}}\\Phi \\right)^{+}}, with {\\displaystyle ^{+}}{\\displaystyle ^{+}} denoting the Moore–Penrose inverse, {\\displaystyle L}L the Laplacian matrix of G, {\\displaystyle |V|}|V| is the number of vertices in G, and {\\displaystyle \\Phi }\\Phi  is the {\\displaystyle |V|\\times |V|}{\\displaystyle |V|\\times |V|} matrix containing all 1s.\n",
    "\n"
   ]
  },
  {
   "cell_type": "code",
   "execution_count": 124,
   "metadata": {},
   "outputs": [
    {
     "data": {
      "text/plain": [
       "0.625"
      ]
     },
     "execution_count": 124,
     "metadata": {},
     "output_type": "execute_result"
    }
   ],
   "source": [
    "G = nx.Graph([(0, 1), (1, 2), (1, 3), (3, 4), (5, 4), (5, 3), (4, 1), (3, 6)])\n",
    "nx.resistance_distance(G, 3, 5)\n"
   ]
  },
  {
   "cell_type": "markdown",
   "metadata": {},
   "source": [
    "## Extrema Bounding\n",
    "We can use the extrema bounding to calculate the diameter, radius, center, eccentricity , barycenter and periperal"
   ]
  },
  {
   "cell_type": "code",
   "execution_count": 129,
   "metadata": {},
   "outputs": [
    {
     "ename": "TypeError",
     "evalue": "cannot convert dictionary update sequence element #0 to a sequence",
     "output_type": "error",
     "traceback": [
      "\u001b[0;31m---------------------------------------------------------------------------\u001b[0m",
      "\u001b[0;31mTypeError\u001b[0m                                 Traceback (most recent call last)",
      "\u001b[1;32m/home/anne/Documents/Projects/second_out/distance.ipynb Cell 27'\u001b[0m in \u001b[0;36m<cell line: 2>\u001b[0;34m()\u001b[0m\n\u001b[1;32m      <a href='vscode-notebook-cell:/home/anne/Documents/Projects/second_out/distance.ipynb#ch0000043?line=0'>1</a>\u001b[0m G \u001b[39m=\u001b[39m nx\u001b[39m.\u001b[39mpath_graph(\u001b[39m4\u001b[39m)\n\u001b[0;32m----> <a href='vscode-notebook-cell:/home/anne/Documents/Projects/second_out/distance.ipynb#ch0000043?line=1'>2</a>\u001b[0m nx\u001b[39m.\u001b[39;49mextrema_bounding(G, compute\u001b[39m=\u001b[39;49m\u001b[39m\"\u001b[39;49m\u001b[39meccentricities\u001b[39;49m\u001b[39m\"\u001b[39;49m)\n",
      "File \u001b[0;32m~/.local/lib/python3.8/site-packages/networkx/algorithms/distance_measures.py:155\u001b[0m, in \u001b[0;36mextrema_bounding\u001b[0;34m(G, compute)\u001b[0m\n\u001b[1;32m    <a href='file:///home/anne/.local/lib/python3.8/site-packages/networkx/algorithms/distance_measures.py?line=151'>152</a>\u001b[0m \u001b[39melif\u001b[39;00m compute \u001b[39m==\u001b[39m \u001b[39m\"\u001b[39m\u001b[39meccentricities\u001b[39m\u001b[39m\"\u001b[39m:\n\u001b[1;32m    <a href='file:///home/anne/.local/lib/python3.8/site-packages/networkx/algorithms/distance_measures.py?line=152'>153</a>\u001b[0m     ruled_out \u001b[39m=\u001b[39m {}\n\u001b[0;32m--> <a href='file:///home/anne/.local/lib/python3.8/site-packages/networkx/algorithms/distance_measures.py?line=154'>155</a>\u001b[0m ruled_out\u001b[39m.\u001b[39;49mupdate(i \u001b[39mfor\u001b[39;49;00m i \u001b[39min\u001b[39;49;00m candidates \u001b[39mif\u001b[39;49;00m ecc_lower[i] \u001b[39m==\u001b[39;49m ecc_upper[i])\n\u001b[1;32m    <a href='file:///home/anne/.local/lib/python3.8/site-packages/networkx/algorithms/distance_measures.py?line=155'>156</a>\u001b[0m candidates \u001b[39m-\u001b[39m\u001b[39m=\u001b[39m ruled_out\n\u001b[1;32m    <a href='file:///home/anne/.local/lib/python3.8/site-packages/networkx/algorithms/distance_measures.py?line=157'>158</a>\u001b[0m \u001b[39m#        for i in ruled_out:\u001b[39;00m\n\u001b[1;32m    <a href='file:///home/anne/.local/lib/python3.8/site-packages/networkx/algorithms/distance_measures.py?line=158'>159</a>\u001b[0m \u001b[39m#            print(\"removing %g: ecc_u: %g maxl: %g ecc_l: %g maxu: %g\"%\u001b[39;00m\n\u001b[1;32m    <a href='file:///home/anne/.local/lib/python3.8/site-packages/networkx/algorithms/distance_measures.py?line=159'>160</a>\u001b[0m \u001b[39m#                    (i,ecc_upper[i],maxlower,ecc_lower[i],maxupper))\u001b[39;00m\n\u001b[0;32m   (...)\u001b[0m\n\u001b[1;32m    <a href='file:///home/anne/.local/lib/python3.8/site-packages/networkx/algorithms/distance_measures.py?line=166'>167</a>\u001b[0m \n\u001b[1;32m    <a href='file:///home/anne/.local/lib/python3.8/site-packages/networkx/algorithms/distance_measures.py?line=167'>168</a>\u001b[0m \u001b[39m# updating maxuppernode and minlowernode for selection in next round\u001b[39;00m\n",
      "\u001b[0;31mTypeError\u001b[0m: cannot convert dictionary update sequence element #0 to a sequence"
     ]
    }
   ],
   "source": [
    "G = nx.path_graph(4)\n",
    "nx.extrema_bounding(G, compute=\"eccentricities\")"
   ]
  },
  {
   "cell_type": "code",
   "execution_count": 125,
   "metadata": {},
   "outputs": [
    {
     "data": {
      "text/plain": [
       "3"
      ]
     },
     "execution_count": 125,
     "metadata": {},
     "output_type": "execute_result"
    }
   ],
   "source": [
    "G = nx.path_graph(4)\n",
    "nx.extrema_bounding(G, compute=\"diameter\")"
   ]
  },
  {
   "cell_type": "code",
   "execution_count": 126,
   "metadata": {},
   "outputs": [
    {
     "data": {
      "text/plain": [
       "2"
      ]
     },
     "execution_count": 126,
     "metadata": {},
     "output_type": "execute_result"
    }
   ],
   "source": [
    "G = nx.path_graph(4)\n",
    "nx.extrema_bounding(G, compute=\"radius\")\n"
   ]
  },
  {
   "cell_type": "code",
   "execution_count": 127,
   "metadata": {},
   "outputs": [
    {
     "data": {
      "text/plain": [
       "[1, 2]"
      ]
     },
     "execution_count": 127,
     "metadata": {},
     "output_type": "execute_result"
    }
   ],
   "source": [
    "G = nx.path_graph(4)\n",
    "nx.extrema_bounding(G, compute=\"center\")"
   ]
  },
  {
   "cell_type": "code",
   "execution_count": 128,
   "metadata": {},
   "outputs": [
    {
     "data": {
      "text/plain": [
       "[0, 3]"
      ]
     },
     "execution_count": 128,
     "metadata": {},
     "output_type": "execute_result"
    }
   ],
   "source": [
    "G = nx.path_graph(4)\n",
    "nx.extrema_bounding(G, compute=\"periphery\")"
   ]
  }
 ],
 "metadata": {
  "interpreter": {
   "hash": "916dbcbb3f70747c44a77c7bcd40155683ae19c65e1c03b4aa3499c5328201f1"
  },
  "kernelspec": {
   "display_name": "Python 3.8.10 64-bit",
   "language": "python",
   "name": "python3"
  },
  "language_info": {
   "codemirror_mode": {
    "name": "ipython",
    "version": 3
   },
   "file_extension": ".py",
   "mimetype": "text/x-python",
   "name": "python",
   "nbconvert_exporter": "python",
   "pygments_lexer": "ipython3",
   "version": "3.8.10"
  },
  "orig_nbformat": 4
 },
 "nbformat": 4,
 "nbformat_minor": 2
}
